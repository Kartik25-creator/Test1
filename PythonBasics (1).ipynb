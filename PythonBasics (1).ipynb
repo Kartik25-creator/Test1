{
  "nbformat": 4,
  "nbformat_minor": 0,
  "metadata": {
    "colab": {
      "provenance": []
    },
    "kernelspec": {
      "name": "python3",
      "display_name": "Python 3"
    },
    "language_info": {
      "name": "python"
    }
  },
  "cells": [
    {
      "cell_type": "markdown",
      "source": [],
      "metadata": {
        "id": "l8OmsjZSb1k1"
      }
    },
    {
      "cell_type": "markdown",
      "source": [
        "#     Theoretical Questions\n",
        "\n",
        "#### #1. What is Python, and why is it popular?\n",
        "##### #Ans.Python is a high-level,interpreted programming language known for its readability,simplicity and versatility.It was created by Guido van Rossum and was first released in 1991.It is popular due to many reasons like python's simple and clean syntax makes it one of the most accessible programming languages for beginners.Python has a large and active community of developers who contribute to a vast collection of third-party libraries, frameworks, and tools. This makes it easy to find solutions to problems and get support.It is used in diverse fields such as web development, scientific research, artificial intelligence, automation, finance, and more. This makes it highly versatile and in-demand across industries.\n",
        "\n"
      ],
      "metadata": {
        "id": "yeqjCTnpUvHz"
      }
    },
    {
      "cell_type": "markdown",
      "source": [
        "#### #2. What is an interpreter in Python?\n",
        "##### #Ans.In Python,an interpreter is a program that reads and executes python code line-by-line,converting it into machine code that the computer can understand and execute directly.This line-by-line execution model makes python convenient for development, although it can be slower than compiled languages due to the overhead of interpretation.\n",
        "\n",
        "\n",
        "\n",
        "\n",
        "\n",
        "\n",
        "\n",
        "\n",
        "\n"
      ],
      "metadata": {
        "id": "YG_SzKzOZSnz"
      }
    },
    {
      "cell_type": "markdown",
      "source": [
        "#### #3. What are pre-defined keywords in Python?\n",
        "##### #Ans.In Python,keywords are reserved words that have a special meaning and are used by the python interpreter to define the syntax and structure of the language. These keywords cannot be used as identifiers such as variable names,function names,or class names because they are fundamental to the language's functionality.Some of the pre-defined keywords are: False,None,True,and,as,assert,async,await,break,class,continue.\n"
      ],
      "metadata": {
        "id": "HEJRwSKjdOnK"
      }
    },
    {
      "cell_type": "markdown",
      "source": [
        "#### #4. Can keywords be used as variable names?\n",
        "##### #Ans.No,keywords in python cannot be used as variable names, function names,or identifiers.Keywords are reserved words in the language that have a special meaning and are part of Python's syntax. Attempting to use a keyword as a variable name will result in a syntax error.\n",
        "\n"
      ],
      "metadata": {
        "id": "vNKhz-HsfeU3"
      }
    },
    {
      "cell_type": "markdown",
      "source": [
        "#### #5. What is mutability in Python?\n",
        "##### #Ans.Mutability in python refers to whether an object's state (its data) can be modified after it is created.Some of the examples are list,dictionaries,etc."
      ],
      "metadata": {
        "id": "pORXEilyhaKw"
      }
    },
    {
      "cell_type": "markdown",
      "source": [
        "#### #6. Why are lists mutable, but tuples are immutable?\n",
        "##### #Ans.Lists are mutable because they are designed to represent ordered collections of items that can be modified over time.On the other hand,Tuples are immutable because they are designed to represent fixed collections of items that should not change. This immutability makes tuples more efficient and safer to use in scenarios requiring constant data, like as dictionary keys or set elements.\n",
        "\n",
        "\n",
        "\n"
      ],
      "metadata": {
        "id": "BLKl_tmBjQTG"
      }
    },
    {
      "cell_type": "markdown",
      "source": [
        "#### #7. What is the difference between “==” and “is” operators in Python?\n",
        "##### #Ans.In Python,the == and is operators are used for comparison,but they serve different purposes and operate differently:\n",
        "Equality Operator(==):The == operator is used to compare the values of two objects to check if they are equal.It checks whether the data stored in two variables is the same, meaning it compares the contents of the objects.\n",
        "Identity Operator(is):The is operator is used to check whether two variables refer to the same object in memory (i.e., it checks if they are the same object).It compares the identity of the objects, not their values.\n",
        "\n",
        "\n"
      ],
      "metadata": {
        "id": "ObKIsrnJkSGT"
      }
    },
    {
      "cell_type": "markdown",
      "source": [
        "#### #8. What are logical operators in Python?\n",
        "##### #Ans.Logical operators are used to combine conditional statements or expressions and return a boolean value (True or False).These operators help in performing logical operations on Boolean values(i.e.,True or False),enabling you to control the flow of execution based on multiple conditions.There are three types of logical operators (and,or,not)\n",
        "The 'and' operator returns True if both conditions are True.If either condition is False, it returns False.The 'or' operator returns True if at least one condition is True.If both conditions are False, it returns False.The 'not' operator inverts the Boolean value of a condition.If the condition is True,it returns False,and if the condition is False,it returns True.\n",
        "\n",
        "\n",
        "\n",
        "\n",
        "\n"
      ],
      "metadata": {
        "id": "corLEiXsmkrE"
      }
    },
    {
      "cell_type": "markdown",
      "source": [
        "#### #9. What is type casting in Python?\n",
        "##### #Ans.Type casting in Python refers to the process of converting a variable from one data type to another.This is often necessary when you want to perform operations that require specific types(e.g.,mathematical operations,string manipulations,etc.) or when data from different sources needs to be unified."
      ],
      "metadata": {
        "id": "CiTsA-nnpnSn"
      }
    },
    {
      "cell_type": "markdown",
      "source": [
        "#### #10. What is the difference between implicit and explicit type casting?\n",
        "##### #Ans.Implicit type casting happens automatically when python changes a smaller data type (like an integer) to a larger one (like a float) without you needing to do anything. It’s done to avoid losing data.\n",
        "Explicit type casting is when you or the programmer manually change a value from one type to another using functions like int(),float() or str().\n",
        "\n"
      ],
      "metadata": {
        "id": "sIHb9TzXreih"
      }
    },
    {
      "cell_type": "markdown",
      "source": [
        "#### #11. What is the purpose of conditional statements in Python?\n",
        "##### #Ans.Conditional statements in python are used to make decisions in a program.They allow the program to execute different blocks of code depending on whether a condition is True or False.This enables the program to respond differently to different inputs or situations.\n",
        "The main types are:\n",
        "if(Executes code if a condition is True).\n",
        "else(Executes code if the condition is False).\n",
        "elif(Checks additional conditions if the previous (if or elif) is False).\n",
        "These statements help control the flow of the program and allow it to handle various scenarios.\n",
        "\n"
      ],
      "metadata": {
        "id": "Oi8VxMeWtjec"
      }
    },
    {
      "cell_type": "markdown",
      "source": [
        "#### #12. How does the elif statement work?\n",
        "##### #Ans.The elif (short for \"else if\") statement in python is used to check multiple conditions in sequence allowing you to test several conditions after an if statement.If the condition in the if statement is False,the program moves to the elif statement (if there is one) and checks its condition.If the elif condition is True, the corresponding block of code is executed.If it's False,Python checks the next elif condition and so on."
      ],
      "metadata": {
        "id": "iADwjuANwkNx"
      }
    },
    {
      "cell_type": "markdown",
      "source": [
        "#### #13. What is the difference between for and while loops?\n",
        "##### #Ans.The for loop is used to iterate over a sequence (like a list, string, or range) and executes a block of code for each item in the sequence. It's useful when you know the number of iterations or are working with a fixed collection.\n",
        "The while loop continues executing as long as a given condition is True. It's ideal when the number of iterations isn't known in advance and you want the loop to run based on a condition.\n",
        "\n",
        "For example:\n",
        "[for loop: for i in range(10): print(i)]\n",
        "[while loop: while i > 10: print (i); i += 1]."
      ],
      "metadata": {
        "id": "ocYJcd1D0Me-"
      }
    },
    {
      "cell_type": "markdown",
      "source": [
        "#### #14. Describe a scenario where a while loop is more suitable than a for loop.\n",
        "##### #Ans.A while loop is more suitable than a for loop when you don't know the exact number of iterations in advance,and the loop should continue based on a dynamic condition.The while loop is ideal for situations where you want to repeat actions until a certain condition is met or until an external factor changes.\n",
        "\n",
        "Example: User Authentication imagine you're building a program that asks a user for their password until they enter the correct one.The number of attempts the user might need is not known beforehand,and the loop should continue running as long as the user hasn't entered the correct password."
      ],
      "metadata": {
        "id": "MPMLUWDH2cpN"
      }
    },
    {
      "cell_type": "markdown",
      "source": [
        "# Practical Questions"
      ],
      "metadata": {
        "id": "pPLqx2DZ9myo"
      }
    },
    {
      "cell_type": "code",
      "source": [
        "#1.Write a Python program to print \"Hello, World!\n",
        "a = \"Hello, World!\"\n",
        "print(a)"
      ],
      "metadata": {
        "colab": {
          "base_uri": "https://localhost:8080/"
        },
        "id": "UzBZAPF8fa7r",
        "outputId": "0f9e1423-05a0-4145-f2a2-ff4a0061ba3a"
      },
      "execution_count": null,
      "outputs": [
        {
          "output_type": "stream",
          "name": "stdout",
          "text": [
            "Hello, World!\n"
          ]
        }
      ]
    },
    {
      "cell_type": "code",
      "source": [
        "#2.Write a Python program that displays your name and age.\n",
        "name = \"Kartik\"\n",
        "age = 19\n",
        "print(\"Name:\", name)\n",
        "print(\"Age:\", age)"
      ],
      "metadata": {
        "colab": {
          "base_uri": "https://localhost:8080/"
        },
        "id": "bUQPIK8agbko",
        "outputId": "9a286ad8-c606-4b52-acd0-9f081bef4a2f"
      },
      "execution_count": null,
      "outputs": [
        {
          "output_type": "stream",
          "name": "stdout",
          "text": [
            "Name: Kartik\n",
            "Age: 19\n"
          ]
        }
      ]
    },
    {
      "cell_type": "code",
      "source": [
        "#3.Write code to print all the pre-defined keywords in Python using the keyword library.\n",
        "import keyword\n",
        "print(keyword.kwlist)\n"
      ],
      "metadata": {
        "colab": {
          "base_uri": "https://localhost:8080/"
        },
        "id": "pKy9LRDPg7vX",
        "outputId": "3aa14d46-c9b8-483f-a6a2-17683fa32a8c"
      },
      "execution_count": null,
      "outputs": [
        {
          "output_type": "stream",
          "name": "stdout",
          "text": [
            "['False', 'None', 'True', 'and', 'as', 'assert', 'async', 'await', 'break', 'class', 'continue', 'def', 'del', 'elif', 'else', 'except', 'finally', 'for', 'from', 'global', 'if', 'import', 'in', 'is', 'lambda', 'nonlocal', 'not', 'or', 'pass', 'raise', 'return', 'try', 'while', 'with', 'yield']\n"
          ]
        }
      ]
    },
    {
      "cell_type": "code",
      "source": [
        "#4.Write a program that checks if a given word is a Python keyword.\n",
        "import keyword\n",
        "word = input(\"Enter a word: \")\n",
        "if keyword.iskeyword(word):\n",
        "    print(f\"{word} is a Python keyword.\")\n",
        "else:\n",
        "    print(f\"{word} is not a Python keyword.\")"
      ],
      "metadata": {
        "colab": {
          "base_uri": "https://localhost:8080/"
        },
        "id": "-MSPyPTdhYdz",
        "outputId": "7122ef93-1e55-4574-dffa-448735e00a4e"
      },
      "execution_count": null,
      "outputs": [
        {
          "output_type": "stream",
          "name": "stdout",
          "text": [
            "Enter a word: class\n",
            "class is a Python keyword.\n"
          ]
        }
      ]
    },
    {
      "cell_type": "code",
      "source": [
        "#5.Create a list and tuple in Python, and demonstrate how attempting to change an element works differently for each.\n",
        "my_list = [1, 2, 3, 4, 5]\n",
        "my_tuple = (1, 2, 3, 4, 5)\n",
        "my_list[1] = 6 #Attempting to change elements in the list\n",
        "print(my_list)\n",
        "try:\n",
        "    my_tuple[1] = 6 #Attempting to change elements in the tuple\n",
        "except TypeError:\n",
        "    print(\"Tuples are immutable. Cannot change elements.\")\n"
      ],
      "metadata": {
        "colab": {
          "base_uri": "https://localhost:8080/"
        },
        "id": "u0BXGRLuhrFe",
        "outputId": "1f3974f0-0d8a-4f42-83a4-d7b04a3d68a1"
      },
      "execution_count": null,
      "outputs": [
        {
          "output_type": "stream",
          "name": "stdout",
          "text": [
            "[1, 6, 3, 4, 5]\n",
            "Tuples are immutable. Cannot change elements.\n"
          ]
        }
      ]
    },
    {
      "cell_type": "code",
      "source": [
        "#6.Write a function to demonstrate the behavior of mutable and immutable arguments.\n",
        "def demonstrate_mutable_immutable(mymutable,immutable):\n",
        "  print(\"Before changes:\")\n",
        "  print(mymutable)\n",
        "  print(immutable)\n",
        "  mymutable.append(5)\n",
        "  print(\"After change mutable\",mymutable)\n",
        "  try:\n",
        "    immutable[0]=15\n",
        "  except TypeError as e:\n",
        "    print(\"error\",e)\n",
        "\n",
        "    print(\"After change immutable\",immutable)\n",
        "mymutable=[1,2,3,4]\n",
        "immutable=(1,2,3,4)\n",
        "demonstrate_mutable_immutable(mymutable,immutable)"
      ],
      "metadata": {
        "colab": {
          "base_uri": "https://localhost:8080/"
        },
        "id": "b5TPvQERmpi8",
        "outputId": "66fa3fd2-9754-4fe0-9e5e-7514cf7b5f4a"
      },
      "execution_count": null,
      "outputs": [
        {
          "output_type": "stream",
          "name": "stdout",
          "text": [
            "Before changes:\n",
            "[1, 2, 3, 4]\n",
            "(1, 2, 3, 4)\n",
            "After change mutable [1, 2, 3, 4, 5]\n",
            "error 'tuple' object does not support item assignment\n",
            "After change immutable (1, 2, 3, 4)\n"
          ]
        }
      ]
    },
    {
      "cell_type": "code",
      "source": [
        "#7.Write a function to demonstrate the behavior of mutable and immutable arguments.\n",
        "def demonstrate_mutable_immutable(mymutable,immutable):\n",
        "  print(\"Before changes:\")\n",
        "  print(mymutable)\n",
        "  print(immutable)\n",
        "  mymutable.append(5)\n",
        "  print(\"After change mutable\",mymutable)\n",
        "  try:\n",
        "    immutable[0]=15\n",
        "  except TypeError as e:\n",
        "    print(\"error\",e)\n",
        "\n",
        "    print(\"After change immutable\",immutable)\n",
        "mymutable=[1,2,3,4]\n",
        "immutable=(1,2,3,4)\n",
        "demonstrate_mutable_immutable(mymutable,immutable)\n"
      ],
      "metadata": {
        "colab": {
          "base_uri": "https://localhost:8080/"
        },
        "id": "KPPAMl43rS_Y",
        "outputId": "4b253f4a-b47e-4887-e209-7f06cfb941db"
      },
      "execution_count": null,
      "outputs": [
        {
          "output_type": "stream",
          "name": "stdout",
          "text": [
            "Before changes:\n",
            "[1, 2, 3, 4]\n",
            "(1, 2, 3, 4)\n",
            "After change mutable [1, 2, 3, 4, 5]\n",
            "error 'tuple' object does not support item assignment\n",
            "After change immutable (1, 2, 3, 4)\n"
          ]
        }
      ]
    },
    {
      "cell_type": "code",
      "source": [
        "#8.Write a program to demonstrate the use of logical operators.\n",
        "x = 5\n",
        "y = 0\n",
        "\n",
        "#Logical \"and\"\n",
        "print(\"Logical and:\", x > 0 and y > 0)#This will be False as one condition is True and other one is False\n",
        "\n",
        "#Logical \"or\"\n",
        "print(\"Logical or:\", x > 0 or y > 0)#This will be True as one condition is True\n",
        "\n",
        "#Logical \"not\"\n",
        "print(\"Logical not:\", not x > 0)#This will be False"
      ],
      "metadata": {
        "colab": {
          "base_uri": "https://localhost:8080/"
        },
        "id": "s8ZxDJn7rmyv",
        "outputId": "2c1634cf-82ec-45b5-e172-e3361cb86aae"
      },
      "execution_count": null,
      "outputs": [
        {
          "output_type": "stream",
          "name": "stdout",
          "text": [
            "Logical and: False\n",
            "Logical or: True\n",
            "Logical not: False\n"
          ]
        }
      ]
    },
    {
      "cell_type": "code",
      "source": [
        "#9.Write a Python program to convert user input from string to integer, float, and boolean types.\n",
        "user_input = input(\"Enter a value: \")\n",
        "print(\"String value:\", user_input)\n",
        "\n",
        "#Converting to integer\n",
        "try:\n",
        "    integer_value = int(user_input)\n",
        "    print(\"Integer value:\", integer_value)\n",
        "except ValueError:\n",
        "    print(\"Invalid input. Cannot convert to integer.\")\n",
        "\n",
        "#Converting to float\n",
        "try:\n",
        "    float_value = float(user_input)\n",
        "    print(\"Float value:\", float_value)\n",
        "except ValueError:\n",
        "    print(\"Invalid input. Cannot convert to float.\")\n",
        "\n",
        "#Converting to boolean\n",
        "try:\n",
        "    boolean_value = bool(user_input)\n",
        "    print(\"Boolean value:\", boolean_value)\n",
        "except ValueError:\n",
        "    print(\"Invalid input. Cannot convert to boolean.\")\n"
      ],
      "metadata": {
        "colab": {
          "base_uri": "https://localhost:8080/"
        },
        "id": "5aeaLMb2xGdo",
        "outputId": "74dacc54-1ecd-4c4f-b1b5-a9a83066df29"
      },
      "execution_count": null,
      "outputs": [
        {
          "output_type": "stream",
          "name": "stdout",
          "text": [
            "Enter a value: 56\n",
            "String value: 56\n",
            "Integer value: 56\n",
            "Float value: 56.0\n",
            "Boolean value: True\n"
          ]
        }
      ]
    },
    {
      "cell_type": "code",
      "source": [
        "#10.Write code to demonstrate type casting with list elements.\n",
        "my_list = [1, 2, 3, 6.565]\n",
        "my_list2=[int (i) for i in my_list]#Converting to integers\n",
        "print(my_list2)\n",
        "my_list3=[str(i) for i in my_list]#Converting to strings\n",
        "print(my_list3)\n",
        "my_list4=[float(i) for i in my_list]#Converting to float\n",
        "print(my_list4)\n",
        "my_list5=[bool(i) for i in my_list]#Converting to boolean\n",
        "print(my_list5)"
      ],
      "metadata": {
        "colab": {
          "base_uri": "https://localhost:8080/"
        },
        "id": "yOdz7Jg36Jca",
        "outputId": "e0e68560-49ea-41e8-c537-751188e52418"
      },
      "execution_count": null,
      "outputs": [
        {
          "output_type": "stream",
          "name": "stdout",
          "text": [
            "[1, 2, 3, 6]\n",
            "['1', '2', '3', '6.565']\n",
            "[1.0, 2.0, 3.0, 6.565]\n",
            "[True, True, True, True]\n"
          ]
        }
      ]
    },
    {
      "cell_type": "code",
      "source": [
        "#11.Write a program that checks if a number is positive, negative, or zero.\n",
        "number = 8\n",
        "#Checking if a number is positive,negative or zero\n",
        "if number > 0:\n",
        "    print(\"The number is positive.\")\n",
        "elif number < 0:\n",
        "    print(\"The number is negative.\")\n",
        "else:\n",
        "    print(\"The number is zero.\")"
      ],
      "metadata": {
        "colab": {
          "base_uri": "https://localhost:8080/"
        },
        "id": "FDXypWHxG31E",
        "outputId": "fcfddc1d-c654-484a-8576-db92fe1bf51e"
      },
      "execution_count": null,
      "outputs": [
        {
          "output_type": "stream",
          "name": "stdout",
          "text": [
            "The number is positive.\n"
          ]
        }
      ]
    },
    {
      "cell_type": "code",
      "source": [
        "#12.Write a for loop to print numbers from 1 to 10.\n",
        "for i in range(1,11):\n",
        "  print(i)"
      ],
      "metadata": {
        "colab": {
          "base_uri": "https://localhost:8080/"
        },
        "id": "OrOHI277-ZJn",
        "outputId": "ce9a0061-6e9c-48ca-ee4d-1836021c52c0"
      },
      "execution_count": null,
      "outputs": [
        {
          "output_type": "stream",
          "name": "stdout",
          "text": [
            "1\n",
            "2\n",
            "3\n",
            "4\n",
            "5\n",
            "6\n",
            "7\n",
            "8\n",
            "9\n",
            "10\n"
          ]
        }
      ]
    },
    {
      "cell_type": "code",
      "source": [
        "#13.Write a Python program to find the sum of all even numbers between 1 and 50.\n",
        "a = 0\n",
        "for i in range(1, 51):\n",
        "  if i % 2 == 0:\n",
        "    a += i\n",
        "\n",
        "print(\"Sum of all even numbers between 1 and 50:\", a)"
      ],
      "metadata": {
        "colab": {
          "base_uri": "https://localhost:8080/"
        },
        "id": "1w33vZJf-9qB",
        "outputId": "02031e8f-fd4c-4a06-bfc1-ab1bd32ec487"
      },
      "execution_count": null,
      "outputs": [
        {
          "output_type": "stream",
          "name": "stdout",
          "text": [
            "Sum of all even numbers between 1 and 50: 650\n"
          ]
        }
      ]
    },
    {
      "cell_type": "code",
      "source": [
        "#14.Write a program to reverse a string using a while loop.\n",
        "str = \"Jay\"\n",
        "print(\"The original string is:\",str)\n",
        "rev_str = \"\"\n",
        "count = len(str)\n",
        "while count > 0:\n",
        "    rev_str += str[count - 1]\n",
        "    count = count - 1\n",
        "\n",
        "print(\"The reversed string is:\",rev_str)"
      ],
      "metadata": {
        "colab": {
          "base_uri": "https://localhost:8080/"
        },
        "id": "H5Y0-SwgClcS",
        "outputId": "823b41c5-28bd-4445-8de9-5cb84995d6b6"
      },
      "execution_count": null,
      "outputs": [
        {
          "output_type": "stream",
          "name": "stdout",
          "text": [
            "The original string is: Jay\n",
            "The reversed string is: yaJ\n"
          ]
        }
      ]
    },
    {
      "cell_type": "code",
      "source": [
        "#15.Write a Python program to calculate the factorial of a number provided by the user using a while loop.\n",
        "num = 7\n",
        "factorial = 1\n",
        "current = 1\n",
        "while current <= num:\n",
        "    factorial *= current\n",
        "    current += 1\n",
        "print(f\"The factorial of {num} is {factorial}\")\n"
      ],
      "metadata": {
        "colab": {
          "base_uri": "https://localhost:8080/"
        },
        "id": "47CSXvoVLJ4A",
        "outputId": "09d16dee-b4f0-4ac9-d256-b375b5d1ebfc"
      },
      "execution_count": null,
      "outputs": [
        {
          "output_type": "stream",
          "name": "stdout",
          "text": [
            "The factorial of 7 is 5040\n"
          ]
        }
      ]
    }
  ]
}